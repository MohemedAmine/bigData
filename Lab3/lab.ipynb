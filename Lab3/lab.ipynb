{
  "nbformat": 4,
  "nbformat_minor": 0,
  "metadata": {
    "colab": {
      "provenance": []
    },
    "kernelspec": {
      "name": "python3",
      "display_name": "Python 3"
    },
    "language_info": {
      "name": "python"
    }
  },
  "cells": [
    {
      "cell_type": "code",
      "execution_count": null,
      "metadata": {
        "colab": {
          "base_uri": "https://localhost:8080/"
        },
        "id": "80E1mjxJpEF-",
        "outputId": "74adeb27-2376-4bed-f756-d826bc3d7311"
      },
      "outputs": [
        {
          "output_type": "stream",
          "name": "stdout",
          "text": [
            "Requirement already satisfied: pyspark in /usr/local/lib/python3.11/dist-packages (3.5.4)\n",
            "Requirement already satisfied: py4j==0.10.9.7 in /usr/local/lib/python3.11/dist-packages (from pyspark) (0.10.9.7)\n"
          ]
        }
      ],
      "source": [
        "! pip install pyspark"
      ]
    },
    {
      "cell_type": "code",
      "source": [
        "from google.colab import files\n",
        "\n",
        "uploaded = files.upload()  # Une boîte de dialogue apparaîtra pour choisir le fichier\n"
      ],
      "metadata": {
        "colab": {
          "base_uri": "https://localhost:8080/",
          "height": 73
        },
        "id": "_nTltZUWpyFI",
        "outputId": "03f1dbe9-eed0-4077-cc4d-9242ff1d8233"
      },
      "execution_count": null,
      "outputs": [
        {
          "output_type": "display_data",
          "data": {
            "text/plain": [
              "<IPython.core.display.HTML object>"
            ],
            "text/html": [
              "\n",
              "     <input type=\"file\" id=\"files-00e1d33e-729b-4f60-b896-21bd54c91343\" name=\"files[]\" multiple disabled\n",
              "        style=\"border:none\" />\n",
              "     <output id=\"result-00e1d33e-729b-4f60-b896-21bd54c91343\">\n",
              "      Upload widget is only available when the cell has been executed in the\n",
              "      current browser session. Please rerun this cell to enable.\n",
              "      </output>\n",
              "      <script>// Copyright 2017 Google LLC\n",
              "//\n",
              "// Licensed under the Apache License, Version 2.0 (the \"License\");\n",
              "// you may not use this file except in compliance with the License.\n",
              "// You may obtain a copy of the License at\n",
              "//\n",
              "//      http://www.apache.org/licenses/LICENSE-2.0\n",
              "//\n",
              "// Unless required by applicable law or agreed to in writing, software\n",
              "// distributed under the License is distributed on an \"AS IS\" BASIS,\n",
              "// WITHOUT WARRANTIES OR CONDITIONS OF ANY KIND, either express or implied.\n",
              "// See the License for the specific language governing permissions and\n",
              "// limitations under the License.\n",
              "\n",
              "/**\n",
              " * @fileoverview Helpers for google.colab Python module.\n",
              " */\n",
              "(function(scope) {\n",
              "function span(text, styleAttributes = {}) {\n",
              "  const element = document.createElement('span');\n",
              "  element.textContent = text;\n",
              "  for (const key of Object.keys(styleAttributes)) {\n",
              "    element.style[key] = styleAttributes[key];\n",
              "  }\n",
              "  return element;\n",
              "}\n",
              "\n",
              "// Max number of bytes which will be uploaded at a time.\n",
              "const MAX_PAYLOAD_SIZE = 100 * 1024;\n",
              "\n",
              "function _uploadFiles(inputId, outputId) {\n",
              "  const steps = uploadFilesStep(inputId, outputId);\n",
              "  const outputElement = document.getElementById(outputId);\n",
              "  // Cache steps on the outputElement to make it available for the next call\n",
              "  // to uploadFilesContinue from Python.\n",
              "  outputElement.steps = steps;\n",
              "\n",
              "  return _uploadFilesContinue(outputId);\n",
              "}\n",
              "\n",
              "// This is roughly an async generator (not supported in the browser yet),\n",
              "// where there are multiple asynchronous steps and the Python side is going\n",
              "// to poll for completion of each step.\n",
              "// This uses a Promise to block the python side on completion of each step,\n",
              "// then passes the result of the previous step as the input to the next step.\n",
              "function _uploadFilesContinue(outputId) {\n",
              "  const outputElement = document.getElementById(outputId);\n",
              "  const steps = outputElement.steps;\n",
              "\n",
              "  const next = steps.next(outputElement.lastPromiseValue);\n",
              "  return Promise.resolve(next.value.promise).then((value) => {\n",
              "    // Cache the last promise value to make it available to the next\n",
              "    // step of the generator.\n",
              "    outputElement.lastPromiseValue = value;\n",
              "    return next.value.response;\n",
              "  });\n",
              "}\n",
              "\n",
              "/**\n",
              " * Generator function which is called between each async step of the upload\n",
              " * process.\n",
              " * @param {string} inputId Element ID of the input file picker element.\n",
              " * @param {string} outputId Element ID of the output display.\n",
              " * @return {!Iterable<!Object>} Iterable of next steps.\n",
              " */\n",
              "function* uploadFilesStep(inputId, outputId) {\n",
              "  const inputElement = document.getElementById(inputId);\n",
              "  inputElement.disabled = false;\n",
              "\n",
              "  const outputElement = document.getElementById(outputId);\n",
              "  outputElement.innerHTML = '';\n",
              "\n",
              "  const pickedPromise = new Promise((resolve) => {\n",
              "    inputElement.addEventListener('change', (e) => {\n",
              "      resolve(e.target.files);\n",
              "    });\n",
              "  });\n",
              "\n",
              "  const cancel = document.createElement('button');\n",
              "  inputElement.parentElement.appendChild(cancel);\n",
              "  cancel.textContent = 'Cancel upload';\n",
              "  const cancelPromise = new Promise((resolve) => {\n",
              "    cancel.onclick = () => {\n",
              "      resolve(null);\n",
              "    };\n",
              "  });\n",
              "\n",
              "  // Wait for the user to pick the files.\n",
              "  const files = yield {\n",
              "    promise: Promise.race([pickedPromise, cancelPromise]),\n",
              "    response: {\n",
              "      action: 'starting',\n",
              "    }\n",
              "  };\n",
              "\n",
              "  cancel.remove();\n",
              "\n",
              "  // Disable the input element since further picks are not allowed.\n",
              "  inputElement.disabled = true;\n",
              "\n",
              "  if (!files) {\n",
              "    return {\n",
              "      response: {\n",
              "        action: 'complete',\n",
              "      }\n",
              "    };\n",
              "  }\n",
              "\n",
              "  for (const file of files) {\n",
              "    const li = document.createElement('li');\n",
              "    li.append(span(file.name, {fontWeight: 'bold'}));\n",
              "    li.append(span(\n",
              "        `(${file.type || 'n/a'}) - ${file.size} bytes, ` +\n",
              "        `last modified: ${\n",
              "            file.lastModifiedDate ? file.lastModifiedDate.toLocaleDateString() :\n",
              "                                    'n/a'} - `));\n",
              "    const percent = span('0% done');\n",
              "    li.appendChild(percent);\n",
              "\n",
              "    outputElement.appendChild(li);\n",
              "\n",
              "    const fileDataPromise = new Promise((resolve) => {\n",
              "      const reader = new FileReader();\n",
              "      reader.onload = (e) => {\n",
              "        resolve(e.target.result);\n",
              "      };\n",
              "      reader.readAsArrayBuffer(file);\n",
              "    });\n",
              "    // Wait for the data to be ready.\n",
              "    let fileData = yield {\n",
              "      promise: fileDataPromise,\n",
              "      response: {\n",
              "        action: 'continue',\n",
              "      }\n",
              "    };\n",
              "\n",
              "    // Use a chunked sending to avoid message size limits. See b/62115660.\n",
              "    let position = 0;\n",
              "    do {\n",
              "      const length = Math.min(fileData.byteLength - position, MAX_PAYLOAD_SIZE);\n",
              "      const chunk = new Uint8Array(fileData, position, length);\n",
              "      position += length;\n",
              "\n",
              "      const base64 = btoa(String.fromCharCode.apply(null, chunk));\n",
              "      yield {\n",
              "        response: {\n",
              "          action: 'append',\n",
              "          file: file.name,\n",
              "          data: base64,\n",
              "        },\n",
              "      };\n",
              "\n",
              "      let percentDone = fileData.byteLength === 0 ?\n",
              "          100 :\n",
              "          Math.round((position / fileData.byteLength) * 100);\n",
              "      percent.textContent = `${percentDone}% done`;\n",
              "\n",
              "    } while (position < fileData.byteLength);\n",
              "  }\n",
              "\n",
              "  // All done.\n",
              "  yield {\n",
              "    response: {\n",
              "      action: 'complete',\n",
              "    }\n",
              "  };\n",
              "}\n",
              "\n",
              "scope.google = scope.google || {};\n",
              "scope.google.colab = scope.google.colab || {};\n",
              "scope.google.colab._files = {\n",
              "  _uploadFiles,\n",
              "  _uploadFilesContinue,\n",
              "};\n",
              "})(self);\n",
              "</script> "
            ]
          },
          "metadata": {}
        },
        {
          "output_type": "stream",
          "name": "stdout",
          "text": [
            "Saving ngram.csv to ngram.csv\n"
          ]
        }
      ]
    },
    {
      "cell_type": "code",
      "source": [
        "import pandas as pd\n",
        "\n",
        "df = pd.read_csv(\"ngram.csv\")"
      ],
      "metadata": {
        "id": "AcVaOrYmp5yP"
      },
      "execution_count": null,
      "outputs": []
    },
    {
      "cell_type": "code",
      "source": [
        "from pyspark.sql import SparkSession\n",
        "spark = SparkSession.builder.appName(\"NGramAnalysis\").getOrCreate()\n"
      ],
      "metadata": {
        "id": "hcVrUwqFqANO"
      },
      "execution_count": null,
      "outputs": []
    },
    {
      "cell_type": "code",
      "source": [
        "df = spark.read.csv(\"ngram.csv\", sep=\"\\t\", header=False, inferSchema=True)\n",
        "df.show(5)\n",
        "\n"
      ],
      "metadata": {
        "colab": {
          "base_uri": "https://localhost:8080/"
        },
        "id": "bKgWhhZ0qV5e",
        "outputId": "733db880-617e-4227-c76c-7ee7bcc756fa"
      },
      "execution_count": null,
      "outputs": [
        {
          "output_type": "stream",
          "name": "stdout",
          "text": [
            "+--------+----+---+---+---+\n",
            "|     _c0| _c1|_c2|_c3|_c4|\n",
            "+--------+----+---+---+---+\n",
            "|! $17.95|1985|  1|  1|  1|\n",
            "|! $17.95|1987|  1|  1|  1|\n",
            "|! $17.95|1990|  1|  1|  1|\n",
            "|! $17.95|1991|  1|  1|  1|\n",
            "|! $17.95|1992|  5|  5|  5|\n",
            "+--------+----+---+---+---+\n",
            "only showing top 5 rows\n",
            "\n"
          ]
        }
      ]
    },
    {
      "cell_type": "code",
      "source": [
        "df = df.toDF(\"Ngram\", \"Year\", \"Count\", \"Pages\", \"Books\")"
      ],
      "metadata": {
        "id": "jDGgq8fRrcKj"
      },
      "execution_count": null,
      "outputs": []
    },
    {
      "cell_type": "code",
      "source": [
        "df.printSchema()\n",
        "df.show(5)\n"
      ],
      "metadata": {
        "colab": {
          "base_uri": "https://localhost:8080/"
        },
        "id": "FJaxbWMjr6EC",
        "outputId": "9d490bb4-e459-4efb-ce26-057574a57bec"
      },
      "execution_count": null,
      "outputs": [
        {
          "output_type": "stream",
          "name": "stdout",
          "text": [
            "root\n",
            " |-- Ngram: string (nullable = true)\n",
            " |-- Year: integer (nullable = true)\n",
            " |-- Count: integer (nullable = true)\n",
            " |-- Pages: integer (nullable = true)\n",
            " |-- Books: integer (nullable = true)\n",
            "\n",
            "+--------+----+-----+-----+-----+\n",
            "|   Ngram|Year|Count|Pages|Books|\n",
            "+--------+----+-----+-----+-----+\n",
            "|! $17.95|1985|    1|    1|    1|\n",
            "|! $17.95|1987|    1|    1|    1|\n",
            "|! $17.95|1990|    1|    1|    1|\n",
            "|! $17.95|1991|    1|    1|    1|\n",
            "|! $17.95|1992|    5|    5|    5|\n",
            "+--------+----+-----+-----+-----+\n",
            "only showing top 5 rows\n",
            "\n"
          ]
        }
      ]
    },
    {
      "cell_type": "code",
      "source": [
        "df.createOrReplaceTempView(\"ngram_table\")\n",
        "result_sql = spark.sql(\"SELECT * FROM ngram_table WHERE Count > 5\")\n",
        "result_sql.show()\n",
        "\n",
        "result_df = df.filter(df[\"Count\"] > 5)\n",
        "result_df.show()\n"
      ],
      "metadata": {
        "colab": {
          "base_uri": "https://localhost:8080/"
        },
        "id": "0FcF7AOHqgiY",
        "outputId": "ab73e519-8fe1-4159-93b5-87baeddb34d4"
      },
      "execution_count": null,
      "outputs": [
        {
          "output_type": "stream",
          "name": "stdout",
          "text": [
            "+--------+----+-----+-----+-----+\n",
            "|   Ngram|Year|Count|Pages|Books|\n",
            "+--------+----+-----+-----+-----+\n",
            "|! $17.95|1997|    6|    5|    5|\n",
            "|! $17.95|1999|   11|   10|   10|\n",
            "|! $17.95|2000|   11|    9|    9|\n",
            "|! $17.95|2004|   14|   14|   14|\n",
            "|! $17.95|2005|   13|   13|   13|\n",
            "|    ! 09|1899|    6|    6|    5|\n",
            "|    ! 09|1916|    7|    7|    4|\n",
            "|    ! 09|1936|    6|    6|    6|\n",
            "|    ! 09|1997|    6|    5|    5|\n",
            "|    ! 09|1999|   11|   10|   10|\n",
            "|    ! 09|2000|   11|    9|    9|\n",
            "|    ! 09|2004|   14|   14|   14|\n",
            "|    ! 09|2005|   13|   13|   13|\n",
            "+--------+----+-----+-----+-----+\n",
            "\n",
            "+--------+----+-----+-----+-----+\n",
            "|   Ngram|Year|Count|Pages|Books|\n",
            "+--------+----+-----+-----+-----+\n",
            "|! $17.95|1997|    6|    5|    5|\n",
            "|! $17.95|1999|   11|   10|   10|\n",
            "|! $17.95|2000|   11|    9|    9|\n",
            "|! $17.95|2004|   14|   14|   14|\n",
            "|! $17.95|2005|   13|   13|   13|\n",
            "|    ! 09|1899|    6|    6|    5|\n",
            "|    ! 09|1916|    7|    7|    4|\n",
            "|    ! 09|1936|    6|    6|    6|\n",
            "|    ! 09|1997|    6|    5|    5|\n",
            "|    ! 09|1999|   11|   10|   10|\n",
            "|    ! 09|2000|   11|    9|    9|\n",
            "|    ! 09|2004|   14|   14|   14|\n",
            "|    ! 09|2005|   13|   13|   13|\n",
            "+--------+----+-----+-----+-----+\n",
            "\n"
          ]
        }
      ]
    },
    {
      "cell_type": "code",
      "source": [
        "result_sql = spark.sql(\"\"\"\n",
        "    SELECT Year, COUNT(Ngram) AS total_Ngrams\n",
        "    FROM ngram_table\n",
        "    GROUP BY Year\n",
        "    ORDER BY Year\n",
        "\"\"\")\n",
        "result_sql.show()\n",
        "\n",
        "result_df = df.groupBy(\"Year\").count().withColumnRenamed(\"count\", \"total_Ngrams\")\n",
        "result_df.orderBy(\"Year\").show()\n",
        "\n"
      ],
      "metadata": {
        "colab": {
          "base_uri": "https://localhost:8080/"
        },
        "id": "eYqMPlGusN5f",
        "outputId": "64056944-f1cb-4426-daef-95d050cb1b9b"
      },
      "execution_count": null,
      "outputs": [
        {
          "output_type": "stream",
          "name": "stdout",
          "text": [
            "+----+------------+\n",
            "|Year|total_Ngrams|\n",
            "+----+------------+\n",
            "|1780|           1|\n",
            "|1803|           1|\n",
            "|1806|           1|\n",
            "|1823|           1|\n",
            "|1824|           1|\n",
            "|1825|           1|\n",
            "|1829|           1|\n",
            "|1830|           1|\n",
            "|1831|           1|\n",
            "|1833|           1|\n",
            "|1834|           1|\n",
            "|1836|           1|\n",
            "|1839|           1|\n",
            "|1840|           1|\n",
            "|1841|           1|\n",
            "|1845|           1|\n",
            "|1847|           1|\n",
            "|1848|           1|\n",
            "|1856|           1|\n",
            "|1857|           1|\n",
            "+----+------------+\n",
            "only showing top 20 rows\n",
            "\n",
            "+----+------------+\n",
            "|Year|total_Ngrams|\n",
            "+----+------------+\n",
            "|1780|           1|\n",
            "|1803|           1|\n",
            "|1806|           1|\n",
            "|1823|           1|\n",
            "|1824|           1|\n",
            "|1825|           1|\n",
            "|1829|           1|\n",
            "|1830|           1|\n",
            "|1831|           1|\n",
            "|1833|           1|\n",
            "|1834|           1|\n",
            "|1836|           1|\n",
            "|1839|           1|\n",
            "|1840|           1|\n",
            "|1841|           1|\n",
            "|1845|           1|\n",
            "|1847|           1|\n",
            "|1848|           1|\n",
            "|1856|           1|\n",
            "|1857|           1|\n",
            "+----+------------+\n",
            "only showing top 20 rows\n",
            "\n"
          ]
        }
      ]
    },
    {
      "cell_type": "code",
      "source": [
        "result_sql = spark.sql(\"\"\"\n",
        "    SELECT Year, Ngram, Count\n",
        "    FROM ngram_table\n",
        "    WHERE Count = (SELECT MAX(Count) FROM ngram_table AS sub WHERE sub.Year = ngram_table.Year)\n",
        "    ORDER BY Year\n",
        "\"\"\")\n",
        "result_sql.show()\n",
        "\n",
        "from pyspark.sql.window import Window\n",
        "from pyspark.sql.functions import col, max, row_number\n",
        "\n",
        "window_spec = Window.partitionBy(\"Year\").orderBy(col(\"Count\").desc())\n",
        "\n",
        "df_ranked = df.withColumn(\"rank\", row_number().over(window_spec))\n",
        "\n",
        "result_df = df_ranked.filter(col(\"rank\") == 1).select(\"Year\", \"Ngram\", \"Count\").orderBy(\"Year\")\n",
        "result_df.show()\n",
        "\n",
        "\n"
      ],
      "metadata": {
        "colab": {
          "base_uri": "https://localhost:8080/"
        },
        "id": "yE-K4LQTsn84",
        "outputId": "ea23219e-3ba9-4600-bb30-c60f04a49d5f"
      },
      "execution_count": null,
      "outputs": [
        {
          "output_type": "stream",
          "name": "stdout",
          "text": [
            "+----+-----+-----+\n",
            "|Year|Ngram|Count|\n",
            "+----+-----+-----+\n",
            "|1780| ! 09|    1|\n",
            "|1803| ! 09|    1|\n",
            "|1806| ! 09|    1|\n",
            "|1823| ! 09|    1|\n",
            "|1824| ! 09|    1|\n",
            "|1825| ! 09|    1|\n",
            "|1829| ! 09|    3|\n",
            "|1830| ! 09|    2|\n",
            "|1831| ! 09|    1|\n",
            "|1833| ! 09|    1|\n",
            "|1834| ! 09|    4|\n",
            "|1836| ! 09|    1|\n",
            "|1839| ! 09|    1|\n",
            "|1840| ! 09|    1|\n",
            "|1841| ! 09|    2|\n",
            "|1845| ! 09|    1|\n",
            "|1847| ! 09|    2|\n",
            "|1848| ! 09|    1|\n",
            "|1856| ! 09|    1|\n",
            "|1857| ! 09|    2|\n",
            "+----+-----+-----+\n",
            "only showing top 20 rows\n",
            "\n",
            "+----+-----+-----+\n",
            "|Year|Ngram|Count|\n",
            "+----+-----+-----+\n",
            "|1780| ! 09|    1|\n",
            "|1803| ! 09|    1|\n",
            "|1806| ! 09|    1|\n",
            "|1823| ! 09|    1|\n",
            "|1824| ! 09|    1|\n",
            "|1825| ! 09|    1|\n",
            "|1829| ! 09|    3|\n",
            "|1830| ! 09|    2|\n",
            "|1831| ! 09|    1|\n",
            "|1833| ! 09|    1|\n",
            "|1834| ! 09|    4|\n",
            "|1836| ! 09|    1|\n",
            "|1839| ! 09|    1|\n",
            "|1840| ! 09|    1|\n",
            "|1841| ! 09|    2|\n",
            "|1845| ! 09|    1|\n",
            "|1847| ! 09|    2|\n",
            "|1848| ! 09|    1|\n",
            "|1856| ! 09|    1|\n",
            "|1857| ! 09|    2|\n",
            "+----+-----+-----+\n",
            "only showing top 20 rows\n",
            "\n"
          ]
        }
      ]
    },
    {
      "cell_type": "code",
      "source": [
        "result_sql = spark.sql(\"\"\"\n",
        "    SELECT Ngram\n",
        "    FROM ngram_table\n",
        "    GROUP BY Ngram\n",
        "    HAVING COUNT(DISTINCT Year) = 20\n",
        "\"\"\")\n",
        "result_sql.show()\n",
        "\n",
        "from pyspark.sql.functions import countDistinct\n",
        "\n",
        "result_df = df.groupBy(\"Ngram\") \\\n",
        "              .agg(countDistinct(\"Year\").alias(\"year_count\")) \\\n",
        "              .filter(\"year_count = 20\") \\\n",
        "              .select(\"Ngram\")\n",
        "\n",
        "result_df.show()\n",
        "\n"
      ],
      "metadata": {
        "colab": {
          "base_uri": "https://localhost:8080/"
        },
        "id": "fJ_eApNQt6c4",
        "outputId": "80b958cc-4c41-43c7-82fb-644d884e871b"
      },
      "execution_count": null,
      "outputs": [
        {
          "output_type": "stream",
          "name": "stdout",
          "text": [
            "+--------+\n",
            "|   Ngram|\n",
            "+--------+\n",
            "|! $17.95|\n",
            "+--------+\n",
            "\n",
            "+--------+\n",
            "|   Ngram|\n",
            "+--------+\n",
            "|! $17.95|\n",
            "+--------+\n",
            "\n"
          ]
        }
      ]
    },
    {
      "cell_type": "code",
      "source": [
        "result_sql = spark.sql(\"\"\"\n",
        "    SELECT Ngram\n",
        "    FROM ngram_table\n",
        "    WHERE SPLIT(Ngram, ' ')[0] LIKE '%!%'\n",
        "      AND SPLIT(Ngram, ' ')[1] LIKE '%9%'\n",
        "\"\"\")\n",
        "result_sql.show()\n",
        "\n",
        "\n",
        "from pyspark.sql.functions import split, col\n",
        "\n",
        "df_split = df.withColumn(\"first_part\", split(col(\"Ngram\"), \" \")[0]) \\\n",
        "             .withColumn(\"second_part\", split(col(\"Ngram\"), \" \")[1])\n",
        "\n",
        "result_df = df_split.filter(\n",
        "    col(\"first_part\").contains(\"!\") & col(\"second_part\").contains(\"9\")\n",
        ").select(\"Ngram\")\n",
        "\n",
        "result_df.show()\n",
        "\n"
      ],
      "metadata": {
        "colab": {
          "base_uri": "https://localhost:8080/"
        },
        "id": "5bXP1dZsuhFB",
        "outputId": "4f8b0304-bd24-4795-ea1d-27e0c6dd7690"
      },
      "execution_count": null,
      "outputs": [
        {
          "output_type": "stream",
          "name": "stdout",
          "text": [
            "+--------+\n",
            "|   Ngram|\n",
            "+--------+\n",
            "|! $17.95|\n",
            "|! $17.95|\n",
            "|! $17.95|\n",
            "|! $17.95|\n",
            "|! $17.95|\n",
            "|! $17.95|\n",
            "|! $17.95|\n",
            "|! $17.95|\n",
            "|! $17.95|\n",
            "|! $17.95|\n",
            "|! $17.95|\n",
            "|! $17.95|\n",
            "|! $17.95|\n",
            "|! $17.95|\n",
            "|! $17.95|\n",
            "|! $17.95|\n",
            "|! $17.95|\n",
            "|! $17.95|\n",
            "|! $17.95|\n",
            "|! $17.95|\n",
            "+--------+\n",
            "only showing top 20 rows\n",
            "\n",
            "+--------+\n",
            "|   Ngram|\n",
            "+--------+\n",
            "|! $17.95|\n",
            "|! $17.95|\n",
            "|! $17.95|\n",
            "|! $17.95|\n",
            "|! $17.95|\n",
            "|! $17.95|\n",
            "|! $17.95|\n",
            "|! $17.95|\n",
            "|! $17.95|\n",
            "|! $17.95|\n",
            "|! $17.95|\n",
            "|! $17.95|\n",
            "|! $17.95|\n",
            "|! $17.95|\n",
            "|! $17.95|\n",
            "|! $17.95|\n",
            "|! $17.95|\n",
            "|! $17.95|\n",
            "|! $17.95|\n",
            "|! $17.95|\n",
            "+--------+\n",
            "only showing top 20 rows\n",
            "\n"
          ]
        }
      ]
    },
    {
      "cell_type": "code",
      "source": [
        "from pyspark.sql.functions import countDistinct\n",
        "\n",
        "result_sql = spark.sql(\"\"\"\n",
        "    WITH total_years AS (\n",
        "        SELECT COUNT(DISTINCT Year) AS total FROM ngram_table\n",
        "    )\n",
        "    SELECT Ngram\n",
        "    FROM ngram_table\n",
        "    GROUP BY Ngram\n",
        "    HAVING COUNT(DISTINCT Year) = (SELECT total FROM total_years)\n",
        "\"\"\")\n",
        "result_sql.show()\n",
        "\n",
        "\n",
        "\n",
        "total_years = df.select(countDistinct(\"Year\")).collect()[0][0]\n",
        "\n",
        "result_df = df.groupBy(\"Ngram\") \\\n",
        "              .agg(countDistinct(\"Year\").alias(\"year_count\")) \\\n",
        "              .filter(col(\"year_count\") == total_years) \\\n",
        "              .select(\"Ngram\")\n",
        "\n",
        "result_df.show()\n",
        "\n"
      ],
      "metadata": {
        "colab": {
          "base_uri": "https://localhost:8080/"
        },
        "id": "gwDrkwxYu2C7",
        "outputId": "a8a17abb-c7f5-4777-99c9-28ac07848fd1"
      },
      "execution_count": null,
      "outputs": [
        {
          "output_type": "stream",
          "name": "stdout",
          "text": [
            "+-----+\n",
            "|Ngram|\n",
            "+-----+\n",
            "| ! 09|\n",
            "+-----+\n",
            "\n",
            "+-----+\n",
            "|Ngram|\n",
            "+-----+\n",
            "| ! 09|\n",
            "+-----+\n",
            "\n"
          ]
        }
      ]
    },
    {
      "cell_type": "code",
      "source": [
        "result_sql = spark.sql(\"\"\"\n",
        "    SELECT Ngram, Year, SUM(Pages) AS total_pages, SUM(Books) AS total_books\n",
        "    FROM ngram_table\n",
        "    GROUP BY Ngram, Year\n",
        "    ORDER BY Ngram ASC\n",
        "\"\"\")\n",
        "result_sql.show()\n"
      ],
      "metadata": {
        "colab": {
          "base_uri": "https://localhost:8080/"
        },
        "id": "y27_gY2-vWKr",
        "outputId": "da3b49e8-13ce-4918-f6a9-2d00511f192b"
      },
      "execution_count": null,
      "outputs": [
        {
          "output_type": "stream",
          "name": "stdout",
          "text": [
            "+--------+----+-----------+-----------+\n",
            "|   Ngram|Year|total_pages|total_books|\n",
            "+--------+----+-----------+-----------+\n",
            "|! $17.95|2002|          5|          5|\n",
            "|! $17.95|2007|          2|          2|\n",
            "|! $17.95|1985|          1|          1|\n",
            "|! $17.95|1990|          1|          1|\n",
            "|! $17.95|1993|          2|          2|\n",
            "|! $17.95|2003|          2|          2|\n",
            "|! $17.95|2000|          9|          9|\n",
            "|! $17.95|2005|         13|         13|\n",
            "|! $17.95|1999|         10|         10|\n",
            "|! $17.95|1992|          5|          5|\n",
            "|! $17.95|1996|          2|          2|\n",
            "|! $17.95|1997|          5|          5|\n",
            "|! $17.95|1995|          1|          1|\n",
            "|! $17.95|1987|          1|          1|\n",
            "|! $17.95|2004|         14|         14|\n",
            "|! $17.95|2006|          5|          5|\n",
            "|! $17.95|1998|          3|          3|\n",
            "|! $17.95|1991|          1|          1|\n",
            "|! $17.95|2008|          2|          2|\n",
            "|! $17.95|2001|          4|          4|\n",
            "+--------+----+-----------+-----------+\n",
            "only showing top 20 rows\n",
            "\n"
          ]
        }
      ]
    },
    {
      "cell_type": "code",
      "source": [
        "from pyspark.sql.functions import countDistinct\n",
        "\n",
        "result_sql = spark.sql(\"\"\"\n",
        "    SELECT Year, COUNT(DISTINCT Ngram) AS total_distinct_Ngrams\n",
        "    FROM ngram_table\n",
        "    GROUP BY Year\n",
        "    ORDER BY Year DESC\n",
        "\"\"\")\n",
        "result_sql.show()\n",
        "\n",
        "\n",
        "result_df = df.groupBy(\"Year\") \\\n",
        "              .agg(countDistinct(\"Ngram\").alias(\"total_distinct_Ngrams\")) \\\n",
        "              .orderBy(\"Year\", ascending=False)\n",
        "result_df.show()\n",
        "\n"
      ],
      "metadata": {
        "colab": {
          "base_uri": "https://localhost:8080/"
        },
        "id": "pgZv2JOnxAij",
        "outputId": "f209d0a8-6a26-4830-9289-a61606b6e878"
      },
      "execution_count": null,
      "outputs": [
        {
          "output_type": "stream",
          "name": "stdout",
          "text": [
            "+----+---------------------+\n",
            "|Year|total_distinct_Ngrams|\n",
            "+----+---------------------+\n",
            "|2008|                    2|\n",
            "|2007|                    2|\n",
            "|2006|                    2|\n",
            "|2005|                    2|\n",
            "|2004|                    2|\n",
            "|2003|                    2|\n",
            "|2002|                    2|\n",
            "|2001|                    2|\n",
            "|2000|                    2|\n",
            "|1999|                    2|\n",
            "|1998|                    2|\n",
            "|1997|                    2|\n",
            "|1996|                    2|\n",
            "|1995|                    2|\n",
            "|1993|                    2|\n",
            "|1992|                    2|\n",
            "|1991|                    2|\n",
            "|1990|                    2|\n",
            "|1987|                    2|\n",
            "|1985|                    2|\n",
            "+----+---------------------+\n",
            "only showing top 20 rows\n",
            "\n",
            "+----+---------------------+\n",
            "|Year|total_distinct_Ngrams|\n",
            "+----+---------------------+\n",
            "|2008|                    2|\n",
            "|2007|                    2|\n",
            "|2006|                    2|\n",
            "|2005|                    2|\n",
            "|2004|                    2|\n",
            "|2003|                    2|\n",
            "|2002|                    2|\n",
            "|2001|                    2|\n",
            "|2000|                    2|\n",
            "|1999|                    2|\n",
            "|1998|                    2|\n",
            "|1997|                    2|\n",
            "|1996|                    2|\n",
            "|1995|                    2|\n",
            "|1993|                    2|\n",
            "|1992|                    2|\n",
            "|1991|                    2|\n",
            "|1990|                    2|\n",
            "|1987|                    2|\n",
            "|1985|                    2|\n",
            "+----+---------------------+\n",
            "only showing top 20 rows\n",
            "\n"
          ]
        }
      ]
    }
  ]
}